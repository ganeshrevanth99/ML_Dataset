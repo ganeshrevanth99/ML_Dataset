{
 "cells": [
  {
   "cell_type": "code",
   "execution_count": 8,
   "id": "24778bb5",
   "metadata": {},
   "outputs": [],
   "source": [
    "file_name='4'\n",
    "one=1 \n",
    "two=2\n",
    "three=3.23\n",
    "with open(r'C:\\\\Users\\\\ganes\\\\test_file\\\\'+file_name+'.txt', 'w') as fp:\n",
    "    fp.write(str(one)+' '+str(two)+' '+str(three))\n",
    "    pass"
   ]
  },
  {
   "cell_type": "code",
   "execution_count": 10,
   "id": "2f335bf0",
   "metadata": {},
   "outputs": [
    {
     "name": "stdout",
     "output_type": "stream",
     "text": [
      "1.txt\n",
      "2.txt\n",
      "3.txt\n",
      "4.txt\n"
     ]
    }
   ],
   "source": [
    "import os\n",
    "directory=\"C:\\\\Users\\\\ganes\\\\test_file\"\n",
    "for file in os.listdir(directory):\n",
    "    filename = os.fsdecode(file)\n",
    "    with open(r'C:\\\\Users\\\\ganes\\\\Dataset_main\\\\train\\\\labels_coco\\\\'+filename,'w') as fp:\n",
    "        "
   ]
  },
  {
   "cell_type": "code",
   "execution_count": null,
   "id": "a9c928ea",
   "metadata": {},
   "outputs": [],
   "source": []
  }
 ],
 "metadata": {
  "kernelspec": {
   "display_name": "Python 3 (ipykernel)",
   "language": "python",
   "name": "python3"
  },
  "language_info": {
   "codemirror_mode": {
    "name": "ipython",
    "version": 3
   },
   "file_extension": ".py",
   "mimetype": "text/x-python",
   "name": "python",
   "nbconvert_exporter": "python",
   "pygments_lexer": "ipython3",
   "version": "3.9.12"
  }
 },
 "nbformat": 4,
 "nbformat_minor": 5
}
